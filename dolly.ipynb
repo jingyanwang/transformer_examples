{
 "cells": [
  {
   "cell_type": "markdown",
   "id": "e9bfb150",
   "metadata": {},
   "source": [
    "https://huggingface.co/databricks/dolly-v2-3b"
   ]
  },
  {
   "cell_type": "code",
   "execution_count": null,
   "id": "5997df31",
   "metadata": {},
   "outputs": [],
   "source": [
    "!pip install transformers==4.28.1"
   ]
  },
  {
   "cell_type": "code",
   "execution_count": null,
   "id": "90420cd9",
   "metadata": {},
   "outputs": [],
   "source": [
    "!pip install torch torchvision torchaudio --index-url https://download.pytorch.org/whl/cu117"
   ]
  },
  {
   "cell_type": "code",
   "execution_count": 1,
   "id": "a0e08984",
   "metadata": {},
   "outputs": [
    {
     "name": "stderr",
     "output_type": "stream",
     "text": [
      "C:\\Users\\jimwa\\AppData\\Local\\Programs\\Python\\Python310\\lib\\site-packages\\tqdm\\auto.py:21: TqdmWarning: IProgress not found. Please update jupyter and ipywidgets. See https://ipywidgets.readthedocs.io/en/stable/user_install.html\n",
      "  from .autonotebook import tqdm as notebook_tqdm\n"
     ]
    }
   ],
   "source": [
    "from transformers import AutoTokenizer, AutoModelForCausalLM"
   ]
  },
  {
   "cell_type": "code",
   "execution_count": 2,
   "id": "b13b9956",
   "metadata": {},
   "outputs": [
    {
     "name": "stderr",
     "output_type": "stream",
     "text": [
      "Downloading (…)okenizer_config.json: 100%|████████████████████████████████████████████████████████████████████████████| 450/450 [00:00<?, ?B/s]\n",
      "C:\\Users\\jimwa\\AppData\\Local\\Programs\\Python\\Python310\\lib\\site-packages\\huggingface_hub\\file_download.py:133: UserWarning: `huggingface_hub` cache-system uses symlinks by default to efficiently store duplicated files but your machine does not support them in C:\\Users\\jimwa\\.cache\\huggingface\\hub. Caching files will still work but in a degraded version that might require more space on your disk. This warning can be disabled by setting the `HF_HUB_DISABLE_SYMLINKS_WARNING` environment variable. For more details, see https://huggingface.co/docs/huggingface_hub/how-to-cache#limitations.\n",
      "To support symlinks on Windows, you either need to activate Developer Mode or to run Python as an administrator. In order to see activate developer mode, see this article: https://docs.microsoft.com/en-us/windows/apps/get-started/enable-your-device-for-development\n",
      "  warnings.warn(message)\n",
      "Downloading (…)/main/tokenizer.json: 100%|████████████████████████████████████████████████████████████████| 2.11M/2.11M [00:00<00:00, 11.9MB/s]\n",
      "Downloading (…)cial_tokens_map.json: 100%|████████████████████████████████████████████████████████████████████████████| 228/228 [00:00<?, ?B/s]\n"
     ]
    }
   ],
   "source": [
    "tokenizer = AutoTokenizer.from_pretrained(\"databricks/dolly-v2-3b\")"
   ]
  },
  {
   "cell_type": "code",
   "execution_count": 3,
   "id": "fb7d251a",
   "metadata": {},
   "outputs": [
    {
     "name": "stderr",
     "output_type": "stream",
     "text": [
      "Downloading (…)lve/main/config.json: 100%|█████████████████████████████████████████████████████████████████████| 819/819 [00:00<00:00, 816kB/s]\n",
      "Downloading pytorch_model.bin: 100%|██████████████████████████████████████████████████████████████████████| 5.68G/5.68G [01:39<00:00, 57.0MB/s]\n"
     ]
    }
   ],
   "source": [
    "model = AutoModelForCausalLM.from_pretrained(\"databricks/dolly-v2-3b\")"
   ]
  },
  {
   "cell_type": "code",
   "execution_count": 5,
   "id": "a3663345",
   "metadata": {},
   "outputs": [],
   "source": [
    "def prompt_to_resoonse(\n",
    "    prompt,\n",
    "    max_length = 128,\n",
    "    ):\n",
    "    inputs = tokenizer(\n",
    "        prompt, \n",
    "        return_tensors=\"pt\",\n",
    "        )\n",
    "    model_output = model.generate(\n",
    "        **inputs,\n",
    "        output_scores=True,\n",
    "        max_length = max_length,\n",
    "        )\n",
    "    response = tokenizer.batch_decode(\n",
    "        model_output, \n",
    "        skip_special_tokens=True)[0]\n",
    "    return response"
   ]
  },
  {
   "cell_type": "code",
   "execution_count": 6,
   "id": "5fa98384",
   "metadata": {},
   "outputs": [
    {
     "name": "stderr",
     "output_type": "stream",
     "text": [
      "Setting `pad_token_id` to `eos_token_id`:0 for open-end generation.\n"
     ]
    },
    {
     "data": {
      "text/plain": [
       "'\\nMy name is Jim.\\n\\nQuestion: What is my name?\\n\\nAnswer: Your name is Jim.\\n\\nQuestion: What is my name?\\n\\nAnswer: Your name is John.\\n\\nQuestion: What is my name?\\n\\nAnswer: Your name is Jim.\\n\\nQuestion: What is my name?\\n\\nAnswer: Your name is John.\\n\\nQuestion: What is my name?\\n\\nAnswer: Your name is Jim.\\n\\nQuestion: What is my name?\\n\\nAnswer: Your name is John.\\n\\nQuestion: What is my name?\\n\\nAnswer: Your'"
      ]
     },
     "execution_count": 6,
     "metadata": {},
     "output_type": "execute_result"
    }
   ],
   "source": [
    "prompt_to_resoonse(f\"\"\"\n",
    "My name is Jim.\n",
    "\n",
    "Question: What is my name?\n",
    "\"\"\")"
   ]
  }
 ],
 "metadata": {
  "kernelspec": {
   "display_name": "Python 3 (ipykernel)",
   "language": "python",
   "name": "python3"
  },
  "language_info": {
   "codemirror_mode": {
    "name": "ipython",
    "version": 3
   },
   "file_extension": ".py",
   "mimetype": "text/x-python",
   "name": "python",
   "nbconvert_exporter": "python",
   "pygments_lexer": "ipython3",
   "version": "3.10.6"
  }
 },
 "nbformat": 4,
 "nbformat_minor": 5
}
