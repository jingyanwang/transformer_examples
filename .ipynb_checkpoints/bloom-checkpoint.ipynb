{
 "cells": [
  {
   "cell_type": "markdown",
   "id": "681e7004",
   "metadata": {},
   "source": [
    "https://huggingface.co/bigscience/bloom-560m"
   ]
  },
  {
   "cell_type": "markdown",
   "id": "21d4c84b",
   "metadata": {},
   "source": [
    "!pip install transformers==4.28.1"
   ]
  },
  {
   "cell_type": "markdown",
   "id": "1caf39e0",
   "metadata": {},
   "source": [
    "!pip install torch torchvision torchaudio --index-url https://download.pytorch.org/whl/cu117"
   ]
  },
  {
   "cell_type": "code",
   "execution_count": 1,
   "id": "c2b30a6e",
   "metadata": {},
   "outputs": [
    {
     "name": "stderr",
     "output_type": "stream",
     "text": [
      "C:\\Users\\jimwa\\AppData\\Local\\Programs\\Python\\Python310\\lib\\site-packages\\tqdm\\auto.py:21: TqdmWarning: IProgress not found. Please update jupyter and ipywidgets. See https://ipywidgets.readthedocs.io/en/stable/user_install.html\n",
      "  from .autonotebook import tqdm as notebook_tqdm\n"
     ]
    }
   ],
   "source": [
    "from transformers import AutoTokenizer, AutoModelForCausalLM"
   ]
  },
  {
   "cell_type": "code",
   "execution_count": 2,
   "id": "598aeab6",
   "metadata": {},
   "outputs": [],
   "source": [
    "tokenizer = AutoTokenizer.from_pretrained(\"bigscience/bloom-560m\")"
   ]
  },
  {
   "cell_type": "code",
   "execution_count": 3,
   "id": "ee750ac4",
   "metadata": {},
   "outputs": [],
   "source": [
    "model = AutoModelForCausalLM.from_pretrained(\"bigscience/bloom-560m\")"
   ]
  },
  {
   "cell_type": "code",
   "execution_count": 4,
   "id": "4ebc212f",
   "metadata": {},
   "outputs": [],
   "source": [
    "def prompt_to_resoonse(\n",
    "    prompt,\n",
    "    max_length = 128,\n",
    "    ):\n",
    "    inputs = tokenizer(\n",
    "        prompt, \n",
    "        return_tensors=\"pt\",\n",
    "        )\n",
    "    model_output = model.generate(\n",
    "        **inputs,\n",
    "        output_scores=True,\n",
    "        max_length = max_length,\n",
    "        )\n",
    "    response = tokenizer.batch_decode(\n",
    "        model_output, \n",
    "        skip_special_tokens=True)[0]\n",
    "    return response"
   ]
  },
  {
   "cell_type": "code",
   "execution_count": 5,
   "id": "554c1f69",
   "metadata": {},
   "outputs": [
    {
     "data": {
      "text/plain": [
       "\"\\nMy name is Jim.\\n\\nQuestion: What is my name?\\nMy name is Jim.\\n\\nA:\\n\\nI don't know what your name is, but I think you are referring to the name of the person who wrote the book. The name of the author is not important, but the name of the book is.\""
      ]
     },
     "execution_count": 5,
     "metadata": {},
     "output_type": "execute_result"
    }
   ],
   "source": [
    "%%time\n",
    "\n",
    "prompt_to_resoonse(f\"\"\"\n",
    "My name is Jim.\n",
    "\n",
    "Question: What is my name?\n",
    "\"\"\")"
   ]
  },
  {
   "cell_type": "code",
   "execution_count": 8,
   "id": "348308a3",
   "metadata": {},
   "outputs": [
    {
     "name": "stdout",
     "output_type": "stream",
     "text": [
      "\n",
      "اسمي جيم.\n",
      "\n",
      "سؤال: ما اسمي؟\n",
      "جيمي.\n",
      "\n",
      "سؤال: ما اسمي؟\n",
      "جيمي.\n",
      "\n",
      "سؤال: ما اسمي؟\n",
      "جيمي.\n",
      "\n",
      "سؤال: ما اسمي؟\n",
      "جيمي.\n",
      "\n",
      "سؤال: ما اسمي؟\n",
      "جيمي.\n",
      "\n",
      "سؤال: ما اسمي؟\n",
      "جيمي.\n",
      "\n",
      "سؤال: ما اسمي؟\n",
      "جيمي.\n",
      "\n",
      "سؤال: ما اسمي؟\n",
      "جيمي.\n",
      "\n",
      "سؤال: ما اسمي؟\n",
      "جيمي.\n",
      "\n",
      "سؤال: ما اسمي؟\n",
      "جيمي.\n",
      "\n",
      "سؤال: ما اسمي؟\n",
      "جيمي.\n",
      "\n",
      "سؤال\n",
      "CPU times: total: 56.3 s\n",
      "Wall time: 8.92 s\n"
     ]
    }
   ],
   "source": [
    "%%time\n",
    "\n",
    "response = prompt_to_resoonse(f\"\"\"\n",
    "اسمي جيم.\n",
    "\n",
    "سؤال: ما اسمي؟\n",
    "\"\"\")\n",
    "\n",
    "print(response)"
   ]
  }
 ],
 "metadata": {
  "kernelspec": {
   "display_name": "Python 3 (ipykernel)",
   "language": "python",
   "name": "python3"
  },
  "language_info": {
   "codemirror_mode": {
    "name": "ipython",
    "version": 3
   },
   "file_extension": ".py",
   "mimetype": "text/x-python",
   "name": "python",
   "nbconvert_exporter": "python",
   "pygments_lexer": "ipython3",
   "version": "3.10.6"
  }
 },
 "nbformat": 4,
 "nbformat_minor": 5
}
